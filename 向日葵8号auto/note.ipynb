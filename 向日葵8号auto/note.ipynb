{
 "cells": [
  {
   "cell_type": "markdown",
   "metadata": {},
   "source": [
    "# 向日葵8号\n",
    "- 向日葵8号,每10分钟更新一次图像,最新的图像为10分钟之前的，格林威治时间\n",
    "- 具体可以查看http://himawari8-dl.nict.go.jp/himawari8/img/D531106/latest.json\n",
    "    - 格式如`{\"date\":\"2019-06-22 15:20:00\",\"file\":\"PI_H08_20190622_1520_TRC_FLDK_R10_PGPFD.png\"}`"
   ]
  },
  {
   "cell_type": "markdown",
   "metadata": {},
   "source": [
    "## 参考\n",
    "- 下载最新图像\n",
    "  - https://github.com/liuwons/himawari8downloader\n",
    "- Python 定时获取卫星图像做为桌面背景(爬虫获取)\n",
    "  - [GITHUB](https://github.com/StuPeter/Auto_Wallpaper_spider)\n",
    "  - [CSDN](https://blog.csdn.net/Q_QuanTing/article/details/82854444)\n",
    "    \n",
    "- 实时壁纸(windows?)\n",
    "  - https://github.com/Cheain/wallpaper\n",
    "- Ubuntu桌面自动生成新的壁纸列表的Python脚本\n",
    "  - https://blog.csdn.net/moqsien/article/details/80260046\n",
    "- 下载png，转换为gif\n",
    "  - https://www.cnblogs.com/dcb3688/p/4608048.html"
   ]
  },
  {
   "cell_type": "markdown",
   "metadata": {},
   "source": [
    "### 原始图片链接(通过chrome浏览器查看元素) http://himawari8-dl.nict.go.jp/himawari8/img/D531106/thumbnail/550/2018/09/26/063000_0_0.png\n",
    "\n",
    "链接段|意思（我猜的）\n",
    "--|--\n",
    "http://himawari8-dl.nict.go.jp/|网站域名\n",
    "himawari8/|卫星名字：向日葵8号\n",
    "img/|图片\n",
    "D531106/\t|布吉岛\n",
    "thumbnail/\t|布吉岛\n",
    "550/\t|卫星图像像素\n",
    "2018/09/26/\t|卫星图像日期\n",
    "063000_0_0\t|卫星图像时间（GMT：格林威治标准时间)\n",
    ".png\t|图像格式（GMT：格林威治标准时间)"
   ]
  },
  {
   "cell_type": "markdown",
   "metadata": {},
   "source": [
    "## 通过放大,看到图片链接\n",
    "- 2倍图片(第一行第一张): http://himawari8-dl.nict.go.jp/himawari8/img/D531106/2d/550/2019/06/21/010000_0_0.png ...\n",
    "- 4倍图片(第二行第一张): http://himawari8-dl.nict.go.jp/himawari8/img/D531106/4d/550/2019/06/21/010000_1_0.png ...\n",
    "- ...\n",
    "\n",
    "根据https://github.com/liuwons/himawari8downloader 中的The result image's width and height are both scale×550. scale can be 1, 2, 4, 8, 16, 20.\n",
    "推测:\n",
    "- 链接中段新增的 /xd/ 可以通过更改x的值[1，2, 4, 8, 16, 20]改变图像大小,\n",
    "- 缩略图片（1倍），中间可以是1d，也可以是thumbnail\n",
    "\n",
    "- 放大图像是由550x550的图像拼接而成, 每张图片后段为 010000_x_y.png, x为第几行,y为第几列\n",
    "  - 例: 2倍图像为2x2x(550x550), 后段分别为\n",
    "    ```\n",
    "    010000_0_0.png, 010000_0_1.png\n",
    "    010000_1_0.png, 010000_1_1.png\n",
    "    ```\n",
    "  - 4倍,8倍等同理"
   ]
  },
  {
   "cell_type": "markdown",
   "metadata": {},
   "source": [
    "\n",
    "链接段|意思（我猜的）\n",
    "--|--\n",
    "http://himawari8-dl.nict.go.jp/|网站域名\n",
    "himawari8/|卫星名字：向日葵8号\n",
    "img/|图片\n",
    "D531106/\t|布吉岛\n",
    "xd/或者为thumbnail(缩略图)\t|放大倍数,x=1，2,4,8,16,20\n",
    "550/\t|卫星图像像素\n",
    "2018/09/26/\t|卫星图像日期\n",
    "063000_0_0\t|卫星图像时间（格林威治标准时间)\n",
    ".png\t|图像格式"
   ]
  },
  {
   "cell_type": "markdown",
   "metadata": {},
   "source": [
    "![gif](./images/latest_earth.gif)"
   ]
  },
  {
   "cell_type": "code",
   "execution_count": null,
   "metadata": {},
   "outputs": [],
   "source": []
  }
 ],
 "metadata": {
  "kernelspec": {
   "display_name": "Python 3",
   "language": "python",
   "name": "python3"
  },
  "language_info": {
   "codemirror_mode": {
    "name": "ipython",
    "version": 3
   },
   "file_extension": ".py",
   "mimetype": "text/x-python",
   "name": "python",
   "nbconvert_exporter": "python",
   "pygments_lexer": "ipython3",
   "version": "3.6.8"
  }
 },
 "nbformat": 4,
 "nbformat_minor": 2
}
